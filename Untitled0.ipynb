{
  "nbformat": 4,
  "nbformat_minor": 0,
  "metadata": {
    "colab": {
      "name": "Untitled0.ipynb",
      "provenance": [],
      "include_colab_link": true
    },
    "kernelspec": {
      "name": "python3",
      "display_name": "Python 3"
    },
    "accelerator": "GPU"
  },
  "cells": [
    {
      "cell_type": "markdown",
      "metadata": {
        "id": "view-in-github",
        "colab_type": "text"
      },
      "source": [
        "<a href=\"https://colab.research.google.com/github/johnjaejunlee/John-Lee/blob/master/Untitled0.ipynb\" target=\"_parent\"><img src=\"https://colab.research.google.com/assets/colab-badge.svg\" alt=\"Open In Colab\"/></a>"
      ]
    },
    {
      "cell_type": "code",
      "metadata": {
        "id": "BvIGP8V5YPEb",
        "colab_type": "code",
        "colab": {
          "base_uri": "https://localhost:8080/",
          "height": 125
        },
        "outputId": "9ff0e224-c4f2-468c-99db-cc500b42a941"
      },
      "source": [
        "from google.colab import drive\n",
        "drive.mount('/content/drive/')"
      ],
      "execution_count": 1,
      "outputs": [
        {
          "output_type": "stream",
          "text": [
            "Go to this URL in a browser: https://accounts.google.com/o/oauth2/auth?client_id=947318989803-6bn6qk8qdgf4n4g3pfee6491hc0brc4i.apps.googleusercontent.com&redirect_uri=urn%3aietf%3awg%3aoauth%3a2.0%3aoob&response_type=code&scope=email%20https%3a%2f%2fwww.googleapis.com%2fauth%2fdocs.test%20https%3a%2f%2fwww.googleapis.com%2fauth%2fdrive%20https%3a%2f%2fwww.googleapis.com%2fauth%2fdrive.photos.readonly%20https%3a%2f%2fwww.googleapis.com%2fauth%2fpeopleapi.readonly\n",
            "\n",
            "Enter your authorization code:\n",
            "··········\n",
            "Mounted at /content/drive/\n"
          ],
          "name": "stdout"
        }
      ]
    },
    {
      "cell_type": "code",
      "metadata": {
        "id": "3vC9hiU_YleU",
        "colab_type": "code",
        "colab": {
          "base_uri": "https://localhost:8080/",
          "height": 34
        },
        "outputId": "26f11582-9683-444f-d275-8ccf8112f401"
      },
      "source": [
        "!ls \"/content/drive/My Drive/Pytorch Start/XNOR-Net-PyTorch-master/ImageNet/networks/main.py\""
      ],
      "execution_count": 6,
      "outputs": [
        {
          "output_type": "stream",
          "text": [
            "'/content/drive/My Drive/Pytorch Start/XNOR-Net-PyTorch-master/ImageNet/networks/main.py'\n"
          ],
          "name": "stdout"
        }
      ]
    },
    {
      "cell_type": "code",
      "metadata": {
        "id": "yHgw-jUsaSFK",
        "colab_type": "code",
        "colab": {}
      },
      "source": [
        "import torch.nn as nn\n",
        "import torch\n",
        "import torch.nn.functional as F\n",
        "\n",
        "class BinActive(torch.autograd.Function):\n",
        "    '''\n",
        "    Binarize the input activations and calculate the mean across channel dimension.\n",
        "    '''\n",
        "    def forward(self, input):\n",
        "        self.save_for_backward(input)\n",
        "        size = input.size()\n",
        "        mean = torch.mean(input.abs(), 1, keepdim=True)\n",
        "        input = input.sign()\n",
        "        return input, mean\n",
        "\n",
        "    def backward(self, grad_output, grad_output_mean):\n",
        "        input, = self.saved_tensors\n",
        "        grad_input = grad_output.clone()\n",
        "        grad_input[input.ge(1)] = 0\n",
        "        grad_input[input.le(-1)] = 0\n",
        "        return grad_input\n",
        "\n",
        "class BinConv2d(nn.Module):\n",
        "    def __init__(self, input_channels, output_channels,\n",
        "            kernel_size=-1, stride=-1, padding=-1, dropout=0):\n",
        "        super(BinConv2d, self).__init__()\n",
        "        self.layer_type = 'BinConv2d'\n",
        "        self.kernel_size = kernel_size\n",
        "        self.stride = stride\n",
        "        self.padding = padding\n",
        "        self.dropout_ratio = dropout\n",
        "\n",
        "        self.bn = nn.BatchNorm2d(input_channels, eps=1e-4, momentum=0.1, affine=True)\n",
        "        self.bn.weight.data = self.bn.weight.data.zero_().add(1.0)\n",
        "        if dropout!=0:\n",
        "            self.dropout = nn.Dropout(dropout)\n",
        "        self.conv = nn.Conv2d(input_channels, output_channels,\n",
        "                kernel_size=kernel_size, stride=stride, padding=padding)\n",
        "        self.relu = nn.ReLU(inplace=True)\n",
        "    \n",
        "    def forward(self, x):\n",
        "        x = self.bn(x)\n",
        "        x, mean = BinActive()(x)\n",
        "        if self.dropout_ratio!=0:\n",
        "            x = self.dropout(x)\n",
        "        x = self.conv(x)\n",
        "        x = self.relu(x)\n",
        "        return x\n",
        "\n",
        "class Net(nn.Module):\n",
        "    def __init__(self):\n",
        "        super(Net, self).__init__()\n",
        "        self.xnor = nn.Sequential(\n",
        "                nn.Conv2d(3, 192, kernel_size=5, stride=1, padding=2),\n",
        "                nn.BatchNorm2d(192, eps=1e-4, momentum=0.1, affine=False),\n",
        "                nn.ReLU(inplace=True),\n",
        "                BinConv2d(192, 160, kernel_size=1, stride=1, padding=0),\n",
        "                BinConv2d(160,  96, kernel_size=1, stride=1, padding=0),\n",
        "                nn.MaxPool2d(kernel_size=3, stride=2, padding=1),\n",
        "\n",
        "                BinConv2d( 96, 192, kernel_size=5, stride=1, padding=2, dropout=0.5),\n",
        "                BinConv2d(192, 192, kernel_size=1, stride=1, padding=0),\n",
        "                BinConv2d(192, 192, kernel_size=1, stride=1, padding=0),\n",
        "                nn.AvgPool2d(kernel_size=3, stride=2, padding=1),\n",
        "\n",
        "                BinConv2d(192, 192, kernel_size=3, stride=1, padding=1, dropout=0.5),\n",
        "                BinConv2d(192, 192, kernel_size=1, stride=1, padding=0),\n",
        "                nn.BatchNorm2d(192, eps=1e-4, momentum=0.1, affine=False),\n",
        "                nn.Conv2d(192,  10, kernel_size=1, stride=1, padding=0),\n",
        "                nn.ReLU(inplace=True),\n",
        "                nn.AvgPool2d(kernel_size=8, stride=1, padding=0),\n",
        "                )\n",
        "\n",
        "    def forward(self, x):\n",
        "        for m in self.modules():\n",
        "            if isinstance(m, nn.BatchNorm2d) or isinstance(m, nn.BatchNorm1d):\n",
        "                if hasattr(m.weight, 'data'):\n",
        "                    m.weight.data.clamp_(min=0.01)\n",
        "        x = self.xnor(x)\n",
        "        x = x.view(x.size(0), 10)\n",
        "        return x\n"
      ],
      "execution_count": 0,
      "outputs": []
    }
  ]
}